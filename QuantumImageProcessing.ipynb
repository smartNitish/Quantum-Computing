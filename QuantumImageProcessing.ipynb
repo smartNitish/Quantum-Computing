{
  "nbformat": 4,
  "nbformat_minor": 0,
  "metadata": {
    "colab": {
      "provenance": [],
      "authorship_tag": "ABX9TyOl8oY0HNZLTKSFE48wnnoa",
      "include_colab_link": true
    },
    "kernelspec": {
      "name": "python3",
      "display_name": "Python 3"
    },
    "language_info": {
      "name": "python"
    }
  },
  "cells": [
    {
      "cell_type": "markdown",
      "metadata": {
        "id": "view-in-github",
        "colab_type": "text"
      },
      "source": [
        "<a href=\"https://colab.research.google.com/github/smartNitish/Quantum-Computing/blob/main/QuantumImageProcessing.ipynb\" target=\"_parent\"><img src=\"https://colab.research.google.com/assets/colab-badge.svg\" alt=\"Open In Colab\"/></a>"
      ]
    },
    {
      "cell_type": "code",
      "execution_count": null,
      "metadata": {
        "colab": {
          "base_uri": "https://localhost:8080/"
        },
        "id": "mEQH6YtCtNsL",
        "outputId": "99d708b5-6d1b-4c89-dc2c-54b4a610981b"
      },
      "outputs": [
        {
          "output_type": "stream",
          "name": "stdout",
          "text": [
            "Collecting pylatexenc\n",
            "  Downloading pylatexenc-2.10.tar.gz (162 kB)\n",
            "\u001b[?25l     \u001b[90m━━━━━━━━━━━━━━━━━━━━━━━━━━━━━━━━━━━━━━━━\u001b[0m \u001b[32m0.0/162.6 kB\u001b[0m \u001b[31m?\u001b[0m eta \u001b[36m-:--:--\u001b[0m\r\u001b[2K     \u001b[91m━━━━━━━━━━━━━━━━━━━━━━━━━━━━━━━━━━━━━\u001b[0m\u001b[91m╸\u001b[0m\u001b[90m━━\u001b[0m \u001b[32m153.6/162.6 kB\u001b[0m \u001b[31m4.4 MB/s\u001b[0m eta \u001b[36m0:00:01\u001b[0m\r\u001b[2K     \u001b[90m━━━━━━━━━━━━━━━━━━━━━━━━━━━━━━━━━━━━━━━━\u001b[0m \u001b[32m162.6/162.6 kB\u001b[0m \u001b[31m2.7 MB/s\u001b[0m eta \u001b[36m0:00:00\u001b[0m\n",
            "\u001b[?25h  Preparing metadata (setup.py) ... \u001b[?25l\u001b[?25hdone\n",
            "Building wheels for collected packages: pylatexenc\n",
            "  Building wheel for pylatexenc (setup.py) ... \u001b[?25l\u001b[?25hdone\n",
            "  Created wheel for pylatexenc: filename=pylatexenc-2.10-py3-none-any.whl size=136817 sha256=35655c016f89feb748a090c37db925767af14a221356b30a99bd3a0652492c5c\n",
            "  Stored in directory: /root/.cache/pip/wheels/d3/31/8b/e09b0386afd80cfc556c00408c9aeea5c35c4d484a9c762fd5\n",
            "Successfully built pylatexenc\n",
            "Installing collected packages: pylatexenc\n",
            "Successfully installed pylatexenc-2.10\n",
            "Collecting qiskit\n",
            "  Downloading qiskit-1.2.4-cp38-abi3-manylinux_2_17_x86_64.manylinux2014_x86_64.whl.metadata (12 kB)\n",
            "Collecting rustworkx>=0.15.0 (from qiskit)\n",
            "  Downloading rustworkx-0.15.1-cp38-abi3-manylinux_2_17_x86_64.manylinux2014_x86_64.whl.metadata (9.9 kB)\n",
            "Requirement already satisfied: numpy<3,>=1.17 in /usr/local/lib/python3.10/dist-packages (from qiskit) (1.26.4)\n",
            "Requirement already satisfied: scipy>=1.5 in /usr/local/lib/python3.10/dist-packages (from qiskit) (1.13.1)\n",
            "Requirement already satisfied: sympy>=1.3 in /usr/local/lib/python3.10/dist-packages (from qiskit) (1.13.3)\n",
            "Collecting dill>=0.3 (from qiskit)\n",
            "  Downloading dill-0.3.9-py3-none-any.whl.metadata (10 kB)\n",
            "Requirement already satisfied: python-dateutil>=2.8.0 in /usr/local/lib/python3.10/dist-packages (from qiskit) (2.8.2)\n",
            "Collecting stevedore>=3.0.0 (from qiskit)\n",
            "  Downloading stevedore-5.3.0-py3-none-any.whl.metadata (2.3 kB)\n",
            "Requirement already satisfied: typing-extensions in /usr/local/lib/python3.10/dist-packages (from qiskit) (4.12.2)\n",
            "Collecting symengine<0.14,>=0.11 (from qiskit)\n",
            "  Downloading symengine-0.13.0-cp310-cp310-manylinux_2_17_x86_64.manylinux2014_x86_64.whl.metadata (1.2 kB)\n",
            "Requirement already satisfied: six>=1.5 in /usr/local/lib/python3.10/dist-packages (from python-dateutil>=2.8.0->qiskit) (1.16.0)\n",
            "Collecting pbr>=2.0.0 (from stevedore>=3.0.0->qiskit)\n",
            "  Downloading pbr-6.1.0-py2.py3-none-any.whl.metadata (3.4 kB)\n",
            "Requirement already satisfied: mpmath<1.4,>=1.1.0 in /usr/local/lib/python3.10/dist-packages (from sympy>=1.3->qiskit) (1.3.0)\n",
            "Downloading qiskit-1.2.4-cp38-abi3-manylinux_2_17_x86_64.manylinux2014_x86_64.whl (4.8 MB)\n",
            "\u001b[2K   \u001b[90m━━━━━━━━━━━━━━━━━━━━━━━━━━━━━━━━━━━━━━━━\u001b[0m \u001b[32m4.8/4.8 MB\u001b[0m \u001b[31m32.6 MB/s\u001b[0m eta \u001b[36m0:00:00\u001b[0m\n",
            "\u001b[?25hDownloading dill-0.3.9-py3-none-any.whl (119 kB)\n",
            "\u001b[2K   \u001b[90m━━━━━━━━━━━━━━━━━━━━━━━━━━━━━━━━━━━━━━━━\u001b[0m \u001b[32m119.4/119.4 kB\u001b[0m \u001b[31m6.2 MB/s\u001b[0m eta \u001b[36m0:00:00\u001b[0m\n",
            "\u001b[?25hDownloading rustworkx-0.15.1-cp38-abi3-manylinux_2_17_x86_64.manylinux2014_x86_64.whl (2.0 MB)\n",
            "\u001b[2K   \u001b[90m━━━━━━━━━━━━━━━━━━━━━━━━━━━━━━━━━━━━━━━━\u001b[0m \u001b[32m2.0/2.0 MB\u001b[0m \u001b[31m43.5 MB/s\u001b[0m eta \u001b[36m0:00:00\u001b[0m\n",
            "\u001b[?25hDownloading stevedore-5.3.0-py3-none-any.whl (49 kB)\n",
            "\u001b[2K   \u001b[90m━━━━━━━━━━━━━━━━━━━━━━━━━━━━━━━━━━━━━━━━\u001b[0m \u001b[32m49.7/49.7 kB\u001b[0m \u001b[31m1.5 MB/s\u001b[0m eta \u001b[36m0:00:00\u001b[0m\n",
            "\u001b[?25hDownloading symengine-0.13.0-cp310-cp310-manylinux_2_17_x86_64.manylinux2014_x86_64.whl (49.7 MB)\n",
            "\u001b[2K   \u001b[90m━━━━━━━━━━━━━━━━━━━━━━━━━━━━━━━━━━━━━━━━\u001b[0m \u001b[32m49.7/49.7 MB\u001b[0m \u001b[31m17.0 MB/s\u001b[0m eta \u001b[36m0:00:00\u001b[0m\n",
            "\u001b[?25hDownloading pbr-6.1.0-py2.py3-none-any.whl (108 kB)\n",
            "\u001b[2K   \u001b[90m━━━━━━━━━━━━━━━━━━━━━━━━━━━━━━━━━━━━━━━━\u001b[0m \u001b[32m108.5/108.5 kB\u001b[0m \u001b[31m6.9 MB/s\u001b[0m eta \u001b[36m0:00:00\u001b[0m\n",
            "\u001b[?25hInstalling collected packages: symengine, rustworkx, pbr, dill, stevedore, qiskit\n",
            "Successfully installed dill-0.3.9 pbr-6.1.0 qiskit-1.2.4 rustworkx-0.15.1 stevedore-5.3.0 symengine-0.13.0\n"
          ]
        }
      ],
      "source": [
        "!pip install pylatexenc\n",
        "!pip install qiskit"
      ]
    },
    {
      "cell_type": "code",
      "source": [
        "from qiskit import*\n",
        "import numpy as np"
      ],
      "metadata": {
        "id": "r8oXPNE1tWxT"
      },
      "execution_count": null,
      "outputs": []
    },
    {
      "cell_type": "code",
      "source": [
        "p1 = 0\n",
        "p2 = np.pi/6\n",
        "p3 = np.pi/3\n",
        "p4 = np.pi/2"
      ],
      "metadata": {
        "id": "CCqGgR8ttoXj"
      },
      "execution_count": null,
      "outputs": []
    },
    {
      "cell_type": "code",
      "source": [
        "qc = QuantumCircuit(3,3)\n",
        "qc.h(0)\n",
        "qc.h(1)\n",
        "qc.barrier()\n",
        "\n",
        "qc.x(0)\n",
        "qc.x(1)\n",
        "qc.cry(p1,0,2)\n",
        "qc.cx(0,1)\n",
        "qc.cry(-p1,1,2)\n",
        "qc.cx(0,1)\n",
        "qc.cry(p1,1,2)\n",
        "qc.barrier()\n",
        "\n",
        "qc.x(0)\n",
        "qc.cry(p2,0,2)\n",
        "qc.cx(0,1)\n",
        "qc.cry(-p2,1,2)\n",
        "qc.cx(0,1)\n",
        "qc.cry(p2,1,2)\n",
        "qc.barrier()\n",
        "\n",
        "qc.x(0)\n",
        "qc.x(1)\n",
        "qc.cry(p3,0,2)\n",
        "qc.cx(0,1)\n",
        "qc.cry(-p3,1,2)\n",
        "qc.cx(0,1)\n",
        "qc.cry(p3,1,2)\n",
        "qc.barrier()\n",
        "\n",
        "qc.x(0)\n",
        "qc.cry(p4,0,2)\n",
        "qc.cx(0,1)\n",
        "qc.cry(-p4,1,2)\n",
        "qc.cx(0,1)\n",
        "qc.cry(p4,1,2)\n",
        "qc.barrier()\n",
        "\n",
        "\n",
        "qc.draw(output='mpl')"
      ],
      "metadata": {
        "colab": {
          "base_uri": "https://localhost:8080/",
          "height": 592
        },
        "id": "WnqKwuB4t_Sw",
        "outputId": "dff1d24d-5098-478f-ab81-870f7d88f76c"
      },
      "execution_count": null,
      "outputs": [
        {
          "output_type": "execute_result",
          "data": {
            "text/plain": [
              "<Figure size 2210.55x785.944 with 1 Axes>"
            ],
            "image/png": "[encoded data removed]"
          },
          "metadata": {},
          "execution_count": 4
        }
      ]
    },
    {
      "cell_type": "code",
      "source": [],
      "metadata": {
        "id": "QLl6u8lENVE7"
      },
      "execution_count": null,
      "outputs": []
    },
    {
      "cell_type": "code",
      "source": [
        "from qiskit.quantum_info import Statevector,Operator"
      ],
      "metadata": {
        "id": "AHHQwgdLudvS"
      },
      "execution_count": null,
      "outputs": []
    },
    {
      "cell_type": "code",
      "source": [
        "st = Statevector(qc)\n",
        "st.draw('latex')"
      ],
      "metadata": {
        "colab": {
          "base_uri": "https://localhost:8080/",
          "height": 40
        },
        "id": "k-nBtf72wrqw",
        "outputId": "81061f74-268c-4e7c-8692-b4fc2e0cb6a1"
      },
      "execution_count": null,
      "outputs": [
        {
          "output_type": "execute_result",
          "data": {
            "text/plain": [
              "<IPython.core.display.Latex object>"
            ],
            "text/latex": "$$\\frac{1}{2} |000\\rangle+\\frac{\\sqrt{3}}{4} |001\\rangle+\\frac{1}{4} |010\\rangle+\\frac{1}{4} |101\\rangle+\\frac{\\sqrt{3}}{4} |110\\rangle+\\frac{1}{2} |111\\rangle$$"
          },
          "metadata": {},
          "execution_count": 6
        }
      ]
    },
    {
      "cell_type": "code",
      "source": [
        "unitary = Operator(qc)\n",
        "unitary.draw('latex')\n"
      ],
      "metadata": {
        "colab": {
          "base_uri": "https://localhost:8080/",
          "height": 193
        },
        "id": "jsFV4XuPwzAa",
        "outputId": "682fbe60-5b0d-4234-d1a8-9412e17f6957"
      },
      "execution_count": null,
      "outputs": [
        {
          "output_type": "execute_result",
          "data": {
            "text/plain": [
              "<IPython.core.display.Latex object>"
            ],
            "text/latex": "$$\n\n\\begin{bmatrix}\n\\frac{1}{2} & \\frac{1}{2} & \\frac{1}{2} & \\frac{1}{2} & 0 & 0 & 0 & 0  \\\\\n \\frac{\\sqrt{3}}{4} & - \\frac{\\sqrt{3}}{4} & \\frac{\\sqrt{3}}{4} & - \\frac{\\sqrt{3}}{4} & - \\frac{1}{4} & \\frac{1}{4} & - \\frac{1}{4} & \\frac{1}{4}  \\\\\n \\frac{1}{4} & \\frac{1}{4} & - \\frac{1}{4} & - \\frac{1}{4} & - \\frac{\\sqrt{3}}{4} & - \\frac{\\sqrt{3}}{4} & \\frac{\\sqrt{3}}{4} & \\frac{\\sqrt{3}}{4}  \\\\\n 0 & 0 & 0 & 0 & - \\frac{1}{2} & \\frac{1}{2} & \\frac{1}{2} & - \\frac{1}{2}  \\\\\n 0 & 0 & 0 & 0 & \\frac{1}{2} & \\frac{1}{2} & \\frac{1}{2} & \\frac{1}{2}  \\\\\n \\frac{1}{4} & - \\frac{1}{4} & \\frac{1}{4} & - \\frac{1}{4} & \\frac{\\sqrt{3}}{4} & - \\frac{\\sqrt{3}}{4} & \\frac{\\sqrt{3}}{4} & - \\frac{\\sqrt{3}}{4}  \\\\\n \\frac{\\sqrt{3}}{4} & \\frac{\\sqrt{3}}{4} & - \\frac{\\sqrt{3}}{4} & - \\frac{\\sqrt{3}}{4} & \\frac{1}{4} & \\frac{1}{4} & - \\frac{1}{4} & - \\frac{1}{4}  \\\\\n \\frac{1}{2} & - \\frac{1}{2} & - \\frac{1}{2} & \\frac{1}{2} & 0 & 0 & 0 & 0  \\\\\n \\end{bmatrix}\n$$"
          },
          "metadata": {},
          "execution_count": 7
        }
      ]
    },
    {
      "cell_type": "code",
      "source": [
        "# from qiskit import Aer\n",
        "\n",
        "simulator = Aer.get_backend('qasm_simulator')\n",
        "# Add measurements to the quantum circuit\n",
        "qc.measure_all() # This adds measurements to all qubits in the circuit\n",
        "job = simulator.run(qc, shots=20000)\n",
        "result = job.result()\n",
        "counts = result.get_counts(qc)\n",
        "print(counts)"
      ],
      "metadata": {
        "colab": {
          "base_uri": "https://localhost:8080/"
        },
        "id": "Tx9UV6dqNW6p",
        "outputId": "6685079e-f797-4d7b-afe4-07d763f3b833"
      },
      "execution_count": null,
      "outputs": [
        {
          "output_type": "stream",
          "name": "stdout",
          "text": [
            "{'001 001 000': 3711, '110 110 000': 3763, '101 101 000': 1240, '010 010 000': 1266, '111 111 000': 5119, '000 000 000': 4901}\n"
          ]
        }
      ]
    },
    {
      "cell_type": "code",
      "source": [
        "# qc1 = QuantumCircuit(3,3)\n",
        "# qc1.h(0)\n",
        "# qc1.h(1)\n",
        "# qc1.barrier()\n",
        "# qc1.x(0)\n",
        "# qc1.x(1)\n",
        "# qc1.mcry(p1,[0,1],2)\n",
        "# qc1.x(0)\n",
        "# qc1.x(1)\n",
        "# qc1.barrier()\n",
        "\n",
        "# qc1.x(0)\n",
        "# qc1.mcry(p2,[0,1],[2])\n",
        "# qc1.x(0)\n",
        "# qc1.barrier()\n",
        "# qc1.x(1)\n",
        "# qc1.mcry(p3,[0,1],2)\n",
        "# qc1.x(1)\n",
        "# qc1.barrier()\n",
        "# qc1.mcry(p4,[0,1],2)\n",
        "# qc1.barrier()\n",
        "# qc1.draw(output='mpl')\n",
        "\n",
        "# from qiskit import QuantumCircuit\n",
        "\n",
        "p1, p2, p3, p4 = 0.5, 1.0, 1.5, 2.0  # Example values for the parameters\n",
        "\n",
        "qc1 = QuantumCircuit(3, 3)\n",
        "qc1.h(0)\n",
        "qc1.h(1)\n",
        "qc1.barrier()\n",
        "\n",
        "qc1.x(0)\n",
        "qc1.x(1)\n",
        "qc1.mcry(p1, [0, 1], 2)  # Apply mcry with controls [0,1] and target 2\n",
        "qc1.x(0)\n",
        "qc1.x(1)\n",
        "qc1.barrier()\n",
        "\n",
        "qc1.x(0)\n",
        "qc1.mcry(p2, [0, 1], 2)  # Apply mcry with controls [0,1] and target 2\n",
        "qc1.x(0)\n",
        "qc1.barrier()\n",
        "\n",
        "qc1.x(1)\n",
        "qc1.mcry(p3, [0, 1], 2)  # Apply mcry with controls [0,1] and target 2\n",
        "qc1.x(1)\n",
        "qc1.barrier()\n",
        "\n",
        "qc1.mcry(p4, [0, 1], 2)  # Apply mcry with controls [0,1] and target 2\n",
        "qc1.barrier()\n",
        "\n",
        "qc1.draw(output='mpl')\n"
      ],
      "metadata": {
        "colab": {
          "base_uri": "https://localhost:8080/",
          "height": 187
        },
        "id": "QVqzWEB67LTx",
        "outputId": "c1561bab-a092-4afa-feea-967c3880c255"
      },
      "execution_count": null,
      "outputs": [
        {
          "output_type": "execute_result",
          "data": {
            "text/plain": [
              "<Figure size 2210.55x367.889 with 1 Axes>"
            ],
            "image/png": "[encoded data removed]"
          },
          "metadata": {},
          "execution_count": 63
        }
      ]
    },
    {
      "cell_type": "code",
      "source": [
        "st = Statevector(qc1)\n",
        "st.draw('latex')"
      ],
      "metadata": {
        "id": "B4eWWf--9tJp",
        "outputId": "c78a8733-934a-41c4-f0aa-aca98db53e7d",
        "colab": {
          "base_uri": "https://localhost:8080/",
          "height": 58
        }
      },
      "execution_count": null,
      "outputs": [
        {
          "output_type": "execute_result",
          "data": {
            "text/plain": [
              "<IPython.core.display.Latex object>"
            ],
            "text/latex": "$$0.4844562109 |000\\rangle+0.3658444344 |001\\rangle+0.4387912809 |010\\rangle+0.2701511529 |011\\rangle+0.1237019796 |100\\rangle+0.34081938 |101\\rangle+0.2397127693 |110\\rangle+0.4207354924 |111\\rangle$$"
          },
          "metadata": {},
          "execution_count": 64
        }
      ]
    },
    {
      "cell_type": "code",
      "source": [
        "!pip install qiskit_aer\n",
        "from qiskit_aer import Aer"
      ],
      "metadata": {
        "colab": {
          "base_uri": "https://localhost:8080/"
        },
        "id": "NyYWcBkQxSzU",
        "outputId": "5b05f7eb-ec28-4091-cdc2-36770febc43a"
      },
      "execution_count": null,
      "outputs": [
        {
          "output_type": "stream",
          "name": "stdout",
          "text": [
            "Collecting qiskit_aer\n",
            "  Downloading qiskit_aer-0.15.1-cp310-cp310-manylinux_2_17_x86_64.manylinux2014_x86_64.whl.metadata (8.0 kB)\n",
            "Requirement already satisfied: qiskit>=1.1.0 in /usr/local/lib/python3.10/dist-packages (from qiskit_aer) (1.2.4)\n",
            "Requirement already satisfied: numpy>=1.16.3 in /usr/local/lib/python3.10/dist-packages (from qiskit_aer) (1.26.4)\n",
            "Requirement already satisfied: scipy>=1.0 in /usr/local/lib/python3.10/dist-packages (from qiskit_aer) (1.13.1)\n",
            "Requirement already satisfied: psutil>=5 in /usr/local/lib/python3.10/dist-packages (from qiskit_aer) (5.9.5)\n",
            "Requirement already satisfied: rustworkx>=0.15.0 in /usr/local/lib/python3.10/dist-packages (from qiskit>=1.1.0->qiskit_aer) (0.15.1)\n",
            "Requirement already satisfied: sympy>=1.3 in /usr/local/lib/python3.10/dist-packages (from qiskit>=1.1.0->qiskit_aer) (1.13.3)\n",
            "Requirement already satisfied: dill>=0.3 in /usr/local/lib/python3.10/dist-packages (from qiskit>=1.1.0->qiskit_aer) (0.3.9)\n",
            "Requirement already satisfied: python-dateutil>=2.8.0 in /usr/local/lib/python3.10/dist-packages (from qiskit>=1.1.0->qiskit_aer) (2.8.2)\n",
            "Requirement already satisfied: stevedore>=3.0.0 in /usr/local/lib/python3.10/dist-packages (from qiskit>=1.1.0->qiskit_aer) (5.3.0)\n",
            "Requirement already satisfied: typing-extensions in /usr/local/lib/python3.10/dist-packages (from qiskit>=1.1.0->qiskit_aer) (4.12.2)\n",
            "Requirement already satisfied: symengine<0.14,>=0.11 in /usr/local/lib/python3.10/dist-packages (from qiskit>=1.1.0->qiskit_aer) (0.13.0)\n",
            "Requirement already satisfied: six>=1.5 in /usr/local/lib/python3.10/dist-packages (from python-dateutil>=2.8.0->qiskit>=1.1.0->qiskit_aer) (1.16.0)\n",
            "Requirement already satisfied: pbr>=2.0.0 in /usr/local/lib/python3.10/dist-packages (from stevedore>=3.0.0->qiskit>=1.1.0->qiskit_aer) (6.1.0)\n",
            "Requirement already satisfied: mpmath<1.4,>=1.1.0 in /usr/local/lib/python3.10/dist-packages (from sympy>=1.3->qiskit>=1.1.0->qiskit_aer) (1.3.0)\n",
            "Downloading qiskit_aer-0.15.1-cp310-cp310-manylinux_2_17_x86_64.manylinux2014_x86_64.whl (12.3 MB)\n",
            "\u001b[2K   \u001b[90m━━━━━━━━━━━━━━━━━━━━━━━━━━━━━━━━━━━━━━━━\u001b[0m \u001b[32m12.3/12.3 MB\u001b[0m \u001b[31m78.1 MB/s\u001b[0m eta \u001b[36m0:00:00\u001b[0m\n",
            "\u001b[?25hInstalling collected packages: qiskit_aer\n",
            "Successfully installed qiskit_aer-0.15.1\n"
          ]
        }
      ]
    },
    {
      "source": [
        "# from qiskit import Aer\n",
        "\n",
        "simulator = Aer.get_backend('qasm_simulator')\n",
        "# Add measurements to the quantum circuit\n",
        "qc1.measure_all() # This adds measurements to all qubits in the circuit\n",
        "job = simulator.run(qc1, shots=20000)\n",
        "result = job.result()\n",
        "counts = result.get_counts(qc1)\n",
        "print(counts)"
      ],
      "cell_type": "code",
      "metadata": {
        "colab": {
          "base_uri": "https://localhost:8080/"
        },
        "id": "m-kY0d7Byjfi",
        "outputId": "ce744e40-628a-4049-9f52-3ff8e4a2eb08"
      },
      "execution_count": null,
      "outputs": [
        {
          "output_type": "stream",
          "name": "stdout",
          "text": [
            "{'111 000': 2550, '101 000': 1251, '011 000': 2517, '000 000': 4920, '010 000': 4647, '110 000': 332, '001 000': 3783}\n"
          ]
        }
      ]
    },
    {
      "source": [
        "simulator = Aer.get_backend('qasm_simulator')\n",
        "qc1.measure_all()\n",
        "job = simulator.run(qc1, shots=20000)\n",
        "result = job.result()\n",
        "counts = result.get_counts(qc1)\n",
        "\n",
        "# Remove '000' suffix from keys\n",
        "new_counts = {}\n",
        "for key, value in counts.items():\n",
        "    new_key = key[:-4]  # Remove the last 3 characters ('000')\n",
        "    new_counts[new_key] = value\n",
        "\n",
        "print(new_counts)"
      ],
      "cell_type": "code",
      "metadata": {
        "colab": {
          "base_uri": "https://localhost:8080/"
        },
        "id": "3CFT72MUF7np",
        "outputId": "a9499613-88b6-4123-cb70-bbf92e9ea98e"
      },
      "execution_count": null,
      "outputs": [
        {
          "output_type": "stream",
          "name": "stdout",
          "text": [
            "{'001 001': 3737, '111 111': 2471, '110 110': 303, '011 011': 2497, '101 101': 1274, '010 010': 4671, '000 000': 5047}\n"
          ]
        }
      ]
    },
    {
      "source": [],
      "cell_type": "code",
      "metadata": {
        "id": "2BEq0y5IGZxY"
      },
      "execution_count": null,
      "outputs": []
    },
    {
      "cell_type": "code",
      "source": [],
      "metadata": {
        "id": "BJiiW9JAyQal"
      },
      "execution_count": null,
      "outputs": []
    },
    {
      "source": [
        "from qiskit.visualization import plot_histogram\n",
        "plot_histogram(counts)"
      ],
      "cell_type": "code",
      "metadata": {
        "colab": {
          "base_uri": "https://localhost:8080/",
          "height": 504
        },
        "id": "BxB0vDvtyomO",
        "outputId": "f040ed9b-f870-46dd-899c-7649d0f0aa6b"
      },
      "execution_count": null,
      "outputs": [
        {
          "output_type": "execute_result",
          "data": {
            "text/plain": [
              "<Figure size 640x480 with 1 Axes>"
            ],
            "image/png": "[encoded data removed]"
          },
          "metadata": {},
          "execution_count": 50
        }
      ]
    },
    {
      "source": [
        "from qiskit.visualization import plot_histogram\n",
        "import matplotlib.pyplot as plt\n",
        "# Convert the counts to a dictionary\n",
        "counts_dict = dict(counts)\n",
        "\n",
        "# Calculate the total counts\n",
        "total = sum(counts_dict.values())\n",
        "\n",
        "# Normalize the counts\n",
        "normalized_counts  = {key: value/total for key, value in counts_dict.items()}\n",
        "\n",
        "# Plot the histogram of the normalized counts\n",
        "plot_histogram(normalized_counts)\n",
        "# plt.show()"
      ],
      "cell_type": "code",
      "metadata": {
        "colab": {
          "base_uri": "https://localhost:8080/",
          "height": 474
        },
        "id": "Ro7zoz0jzu4y",
        "outputId": "edd23ea6-550c-4e00-f0e2-02e1bdaa591f"
      },
      "execution_count": null,
      "outputs": [
        {
          "output_type": "execute_result",
          "data": {
            "text/plain": [
              "<Figure size 640x480 with 1 Axes>"
            ],
            "image/png": "[encoded data removed]"
          },
          "metadata": {},
          "execution_count": 19
        }
      ]
    },
    {
      "cell_type": "code",
      "source": [],
      "metadata": {
        "id": "4SMLphPUyo1c"
      },
      "execution_count": null,
      "outputs": []
    },
    {
      "source": [
        "from qiskit.quantum_info import Statevector\n",
        "\n",
        "# Assuming qc is your quantum circuit\n",
        "st = Statevector(qc)\n",
        "density_matrix = st.to_operator()\n",
        "\n",
        "# Optionally, you can print the density matrix\n",
        "print(density_matrix)"
      ],
      "cell_type": "code",
      "metadata": {
        "colab": {
          "base_uri": "https://localhost:8080/",
          "height": 374
        },
        "id": "OXCwaHkMy-le",
        "outputId": "4b9f62f7-83a0-49ca-986c-763b26168015"
      },
      "execution_count": null,
      "outputs": [
        {
          "output_type": "error",
          "ename": "QiskitError",
          "evalue": "'Cannot apply instruction with classical bits: measure'",
          "traceback": [
            "\u001b[0;31m---------------------------------------------------------------------------\u001b[0m",
            "\u001b[0;31mQiskitError\u001b[0m                               Traceback (most recent call last)",
            "\u001b[0;32m<ipython-input-23-18b5b1b31aab>\u001b[0m in \u001b[0;36m<cell line: 4>\u001b[0;34m()\u001b[0m\n\u001b[1;32m      2\u001b[0m \u001b[0;34m\u001b[0m\u001b[0m\n\u001b[1;32m      3\u001b[0m \u001b[0;31m# Assuming qc is your quantum circuit\u001b[0m\u001b[0;34m\u001b[0m\u001b[0;34m\u001b[0m\u001b[0m\n\u001b[0;32m----> 4\u001b[0;31m \u001b[0mst\u001b[0m \u001b[0;34m=\u001b[0m \u001b[0mStatevector\u001b[0m\u001b[0;34m(\u001b[0m\u001b[0mqc\u001b[0m\u001b[0;34m)\u001b[0m\u001b[0;34m\u001b[0m\u001b[0;34m\u001b[0m\u001b[0m\n\u001b[0m\u001b[1;32m      5\u001b[0m \u001b[0mdensity_matrix\u001b[0m \u001b[0;34m=\u001b[0m \u001b[0mst\u001b[0m\u001b[0;34m.\u001b[0m\u001b[0mto_operator\u001b[0m\u001b[0;34m(\u001b[0m\u001b[0;34m)\u001b[0m\u001b[0;34m\u001b[0m\u001b[0;34m\u001b[0m\u001b[0m\n\u001b[1;32m      6\u001b[0m \u001b[0;34m\u001b[0m\u001b[0m\n",
            "\u001b[0;32m/usr/local/lib/python3.10/dist-packages/qiskit/quantum_info/states/statevector.py\u001b[0m in \u001b[0;36m__init__\u001b[0;34m(self, data, dims)\u001b[0m\n\u001b[1;32m     91\u001b[0m             \u001b[0mself\u001b[0m\u001b[0;34m.\u001b[0m\u001b[0m_data\u001b[0m \u001b[0;34m=\u001b[0m \u001b[0mnp\u001b[0m\u001b[0;34m.\u001b[0m\u001b[0mravel\u001b[0m\u001b[0;34m(\u001b[0m\u001b[0mdata\u001b[0m\u001b[0;34m.\u001b[0m\u001b[0mdata\u001b[0m\u001b[0;34m)\u001b[0m\u001b[0;34m\u001b[0m\u001b[0;34m\u001b[0m\u001b[0m\n\u001b[1;32m     92\u001b[0m         \u001b[0;32melif\u001b[0m \u001b[0misinstance\u001b[0m\u001b[0;34m(\u001b[0m\u001b[0mdata\u001b[0m\u001b[0;34m,\u001b[0m \u001b[0;34m(\u001b[0m\u001b[0mQuantumCircuit\u001b[0m\u001b[0;34m,\u001b[0m \u001b[0mInstruction\u001b[0m\u001b[0;34m)\u001b[0m\u001b[0;34m)\u001b[0m\u001b[0;34m:\u001b[0m\u001b[0;34m\u001b[0m\u001b[0;34m\u001b[0m\u001b[0m\n\u001b[0;32m---> 93\u001b[0;31m             \u001b[0mself\u001b[0m\u001b[0;34m.\u001b[0m\u001b[0m_data\u001b[0m \u001b[0;34m=\u001b[0m \u001b[0mStatevector\u001b[0m\u001b[0;34m.\u001b[0m\u001b[0mfrom_instruction\u001b[0m\u001b[0;34m(\u001b[0m\u001b[0mdata\u001b[0m\u001b[0;34m)\u001b[0m\u001b[0;34m.\u001b[0m\u001b[0mdata\u001b[0m\u001b[0;34m\u001b[0m\u001b[0;34m\u001b[0m\u001b[0m\n\u001b[0m\u001b[1;32m     94\u001b[0m         \u001b[0;32melse\u001b[0m\u001b[0;34m:\u001b[0m\u001b[0;34m\u001b[0m\u001b[0;34m\u001b[0m\u001b[0m\n\u001b[1;32m     95\u001b[0m             \u001b[0;32mraise\u001b[0m \u001b[0mQiskitError\u001b[0m\u001b[0;34m(\u001b[0m\u001b[0;34m\"Invalid input data format for Statevector\"\u001b[0m\u001b[0;34m)\u001b[0m\u001b[0;34m\u001b[0m\u001b[0;34m\u001b[0m\u001b[0m\n",
            "\u001b[0;32m/usr/local/lib/python3.10/dist-packages/qiskit/quantum_info/states/statevector.py\u001b[0m in \u001b[0;36mfrom_instruction\u001b[0;34m(cls, instruction)\u001b[0m\n\u001b[1;32m    765\u001b[0m         \u001b[0minit\u001b[0m\u001b[0;34m[\u001b[0m\u001b[0;36m0\u001b[0m\u001b[0;34m]\u001b[0m \u001b[0;34m=\u001b[0m \u001b[0;36m1.0\u001b[0m\u001b[0;34m\u001b[0m\u001b[0;34m\u001b[0m\u001b[0m\n\u001b[1;32m    766\u001b[0m         \u001b[0mvec\u001b[0m \u001b[0;34m=\u001b[0m \u001b[0mStatevector\u001b[0m\u001b[0;34m(\u001b[0m\u001b[0minit\u001b[0m\u001b[0;34m,\u001b[0m \u001b[0mdims\u001b[0m\u001b[0;34m=\u001b[0m\u001b[0minstruction\u001b[0m\u001b[0;34m.\u001b[0m\u001b[0mnum_qubits\u001b[0m \u001b[0;34m*\u001b[0m \u001b[0;34m(\u001b[0m\u001b[0;36m2\u001b[0m\u001b[0;34m,\u001b[0m\u001b[0;34m)\u001b[0m\u001b[0;34m)\u001b[0m\u001b[0;34m\u001b[0m\u001b[0;34m\u001b[0m\u001b[0m\n\u001b[0;32m--> 767\u001b[0;31m         \u001b[0;32mreturn\u001b[0m \u001b[0mStatevector\u001b[0m\u001b[0;34m.\u001b[0m\u001b[0m_evolve_instruction\u001b[0m\u001b[0;34m(\u001b[0m\u001b[0mvec\u001b[0m\u001b[0;34m,\u001b[0m \u001b[0minstruction\u001b[0m\u001b[0;34m)\u001b[0m\u001b[0;34m\u001b[0m\u001b[0;34m\u001b[0m\u001b[0m\n\u001b[0m\u001b[1;32m    768\u001b[0m \u001b[0;34m\u001b[0m\u001b[0m\n\u001b[1;32m    769\u001b[0m     \u001b[0;32mdef\u001b[0m \u001b[0mto_dict\u001b[0m\u001b[0;34m(\u001b[0m\u001b[0mself\u001b[0m\u001b[0;34m,\u001b[0m \u001b[0mdecimals\u001b[0m\u001b[0;34m:\u001b[0m \u001b[0;32mNone\u001b[0m \u001b[0;34m|\u001b[0m \u001b[0mint\u001b[0m \u001b[0;34m=\u001b[0m \u001b[0;32mNone\u001b[0m\u001b[0;34m)\u001b[0m \u001b[0;34m->\u001b[0m \u001b[0mdict\u001b[0m\u001b[0;34m:\u001b[0m\u001b[0;34m\u001b[0m\u001b[0;34m\u001b[0m\u001b[0m\n",
            "\u001b[0;32m/usr/local/lib/python3.10/dist-packages/qiskit/quantum_info/states/statevector.py\u001b[0m in \u001b[0;36m_evolve_instruction\u001b[0;34m(statevec, obj, qargs)\u001b[0m\n\u001b[1;32m    947\u001b[0m         \u001b[0;32mfor\u001b[0m \u001b[0minstruction\u001b[0m \u001b[0;32min\u001b[0m \u001b[0mobj\u001b[0m\u001b[0;34m.\u001b[0m\u001b[0mdefinition\u001b[0m\u001b[0;34m:\u001b[0m\u001b[0;34m\u001b[0m\u001b[0;34m\u001b[0m\u001b[0m\n\u001b[1;32m    948\u001b[0m             \u001b[0;32mif\u001b[0m \u001b[0minstruction\u001b[0m\u001b[0;34m.\u001b[0m\u001b[0mclbits\u001b[0m\u001b[0;34m:\u001b[0m\u001b[0;34m\u001b[0m\u001b[0;34m\u001b[0m\u001b[0m\n\u001b[0;32m--> 949\u001b[0;31m                 raise QiskitError(\n\u001b[0m\u001b[1;32m    950\u001b[0m                     \u001b[0;34mf\"Cannot apply instruction with classical bits: {instruction.operation.name}\"\u001b[0m\u001b[0;34m\u001b[0m\u001b[0;34m\u001b[0m\u001b[0m\n\u001b[1;32m    951\u001b[0m                 )\n",
            "\u001b[0;31mQiskitError\u001b[0m: 'Cannot apply instruction with classical bits: measure'"
          ]
        }
      ]
    },
    {
      "source": [
        "# Remove measurements from the quantum circuit if they exist\n",
        "qc.remove_final_measurements()\n",
        "\n",
        "# Now you can create the Statevector\n",
        "st = Statevector(qc)\n",
        "density_matrix = st.to_operator()\n",
        "\n",
        "# Optionally, you can print the density matrix\n",
        "print(density_matrix)"
      ],
      "cell_type": "code",
      "metadata": {
        "colab": {
          "base_uri": "https://localhost:8080/"
        },
        "id": "6JWQQUwbzJvq",
        "outputId": "03b42c81-3b0d-49dc-8d54-b4cae67f74bb"
      },
      "execution_count": null,
      "outputs": [
        {
          "output_type": "stream",
          "name": "stdout",
          "text": [
            "Operator([[2.50000000e-01+0.j, 2.16506351e-01+0.j, 1.25000000e-01+0.j,\n",
            "           4.17889456e-17+0.j, 3.71854204e-18+0.j, 1.25000000e-01+0.j,\n",
            "           2.16506351e-01+0.j, 2.50000000e-01+0.j],\n",
            "          [2.16506351e-01+0.j, 1.87500000e-01+0.j, 1.08253175e-01+0.j,\n",
            "           3.61902884e-17+0.j, 3.22035187e-18+0.j, 1.08253175e-01+0.j,\n",
            "           1.87500000e-01+0.j, 2.16506351e-01+0.j],\n",
            "          [1.25000000e-01+0.j, 1.08253175e-01+0.j, 6.25000000e-02+0.j,\n",
            "           2.08944728e-17+0.j, 1.85927102e-18+0.j, 6.25000000e-02+0.j,\n",
            "           1.08253175e-01+0.j, 1.25000000e-01+0.j],\n",
            "          [4.17889456e-17+0.j, 3.61902884e-17+0.j, 2.08944728e-17+0.j,\n",
            "           6.98526388e-33+0.j, 6.21575803e-34+0.j, 2.08944728e-17+0.j,\n",
            "           3.61902884e-17+0.j, 4.17889456e-17+0.j],\n",
            "          [3.71854204e-18+0.j, 3.22035187e-18+0.j, 1.85927102e-18+0.j,\n",
            "           6.21575803e-34+0.j, 5.53102195e-35+0.j, 1.85927102e-18+0.j,\n",
            "           3.22035187e-18+0.j, 3.71854204e-18+0.j],\n",
            "          [1.25000000e-01+0.j, 1.08253175e-01+0.j, 6.25000000e-02+0.j,\n",
            "           2.08944728e-17+0.j, 1.85927102e-18+0.j, 6.25000000e-02+0.j,\n",
            "           1.08253175e-01+0.j, 1.25000000e-01+0.j],\n",
            "          [2.16506351e-01+0.j, 1.87500000e-01+0.j, 1.08253175e-01+0.j,\n",
            "           3.61902884e-17+0.j, 3.22035187e-18+0.j, 1.08253175e-01+0.j,\n",
            "           1.87500000e-01+0.j, 2.16506351e-01+0.j],\n",
            "          [2.50000000e-01+0.j, 2.16506351e-01+0.j, 1.25000000e-01+0.j,\n",
            "           4.17889456e-17+0.j, 3.71854204e-18+0.j, 1.25000000e-01+0.j,\n",
            "           2.16506351e-01+0.j, 2.50000000e-01+0.j]],\n",
            "         input_dims=(2, 2, 2), output_dims=(2, 2, 2))\n"
          ]
        }
      ]
    },
    {
      "cell_type": "code",
      "source": [],
      "metadata": {
        "id": "bSNX_A8zy_Gg"
      },
      "execution_count": null,
      "outputs": []
    },
    {
      "cell_type": "markdown",
      "source": [
        "#NEQR ( Novel Enhanced  Quantum Representation)"
      ],
      "metadata": {
        "id": "Zm1CatgxkInZ"
      }
    },
    {
      "cell_type": "code",
      "source": [],
      "metadata": {
        "id": "Mlc0MP6bkISZ"
      },
      "execution_count": null,
      "outputs": []
    },
    {
      "source": [
        "def decimal_to_binary(decimal_num):\n",
        "  \"\"\"Converts a decimal number to binary.\n",
        "\n",
        "  Args:\n",
        "    decimal_num: The decimal number to convert.\n",
        "\n",
        "  Returns:\n",
        "    The binary representation of the decimal number.\n",
        "  \"\"\"\n",
        "  if decimal_num == 0:\n",
        "    return \"0b0\"  # Special case for 0\n",
        "  binary_num = bin(decimal_num)\n",
        "  return binary_num\n",
        "\n",
        "# Example usage\n",
        "decimal_number = 255\n",
        "binary_representation = decimal_to_binary(decimal_number)\n",
        "print(f\"The binary representation of {decimal_number} is {binary_representation}\")  # Output: The binary representation of 10 is 0b1010"
      ],
      "cell_type": "code",
      "metadata": {
        "colab": {
          "base_uri": "https://localhost:8080/"
        },
        "id": "0FitlgQ4klaA",
        "outputId": "d946b1ad-aa66-4118-d876-46a415f59d56"
      },
      "execution_count": null,
      "outputs": [
        {
          "output_type": "stream",
          "name": "stdout",
          "text": [
            "The binary representation of 255 is 0b11111111\n"
          ]
        }
      ]
    },
    {
      "cell_type": "code",
      "source": [
        "bin(255)"
      ],
      "metadata": {
        "colab": {
          "base_uri": "https://localhost:8080/",
          "height": 36
        },
        "id": "8BTe3DUOklx4",
        "outputId": "e969e53a-3b1a-4b54-b0c6-86835e794dcb"
      },
      "execution_count": null,
      "outputs": [
        {
          "output_type": "execute_result",
          "data": {
            "text/plain": [
              "'0b11111111'"
            ],
            "application/vnd.google.colaboratory.intrinsic+json": {
              "type": "string"
            }
          },
          "metadata": {},
          "execution_count": 6
        }
      ]
    },
    {
      "cell_type": "code",
      "source": [
        "# for i in range(0,256):\n",
        "#   print(bin(i))"
      ],
      "metadata": {
        "id": "1ZeY6nCalJBf"
      },
      "execution_count": null,
      "outputs": []
    },
    {
      "cell_type": "code",
      "source": [
        "\"\""
      ],
      "metadata": {
        "id": "pg2zqL9VlbTY"
      },
      "execution_count": null,
      "outputs": []
    },
    {
      "source": [
        "def decimal_to_8bit_binary(decimal_num):\n",
        "  \"\"\"Converts a decimal number to 8-digit binary.\n",
        "\n",
        "  Args:\n",
        "    decimal_num: The decimal number to convert.\n",
        "\n",
        "  Returns:\n",
        "    The 8-digit binary representation of the decimal number.\n",
        "  \"\"\"\n",
        "  if decimal_num < 0 or decimal_num > 255:\n",
        "    raise ValueError(\"Decimal number must be between 0 and 255 for 8-bit representation.\")\n",
        "\n",
        "  binary_num = bin(decimal_num)[2:]  # Remove '0b' prefix\n",
        "  padded_binary = binary_num.zfill(8)  # Pad with leading zeros to 8 digits\n",
        "  return padded_binary\n",
        "\n",
        "# Example usage\n",
        "decimal_number = 255\n",
        "binary_representation = decimal_to_8bit_binary(decimal_number)\n",
        "print(f\"The 8-digit binary representation of {decimal_number} is {binary_representation}\")  # Output: The 8-digit binary representation of 10 is 00001010"
      ],
      "cell_type": "code",
      "metadata": {
        "colab": {
          "base_uri": "https://localhost:8080/"
        },
        "id": "J_8CMmNelykP",
        "outputId": "7d4baad7-60d3-47d4-f789-d065f8b21906"
      },
      "execution_count": null,
      "outputs": [
        {
          "output_type": "stream",
          "name": "stdout",
          "text": [
            "The 8-digit binary representation of 255 is 11111111\n"
          ]
        }
      ]
    },
    {
      "cell_type": "code",
      "source": [
        "for i in range(0,256):\n",
        "  print(i,':',decimal_to_8bit_binary(i))"
      ],
      "metadata": {
        "id": "2ck1bKNClzIm",
        "colab": {
          "base_uri": "https://localhost:8080/"
        },
        "outputId": "c9657979-29f6-4b4f-fe63-690ad3e91a97"
      },
      "execution_count": null,
      "outputs": [
        {
          "output_type": "stream",
          "name": "stdout",
          "text": [
            "0 : 00000000\n",
            "1 : 00000001\n",
            "2 : 00000010\n",
            "3 : 00000011\n",
            "4 : 00000100\n",
            "5 : 00000101\n",
            "6 : 00000110\n",
            "7 : 00000111\n",
            "8 : 00001000\n",
            "9 : 00001001\n",
            "10 : 00001010\n",
            "11 : 00001011\n",
            "12 : 00001100\n",
            "13 : 00001101\n",
            "14 : 00001110\n",
            "15 : 00001111\n",
            "16 : 00010000\n",
            "17 : 00010001\n",
            "18 : 00010010\n",
            "19 : 00010011\n",
            "20 : 00010100\n",
            "21 : 00010101\n",
            "22 : 00010110\n",
            "23 : 00010111\n",
            "24 : 00011000\n",
            "25 : 00011001\n",
            "26 : 00011010\n",
            "27 : 00011011\n",
            "28 : 00011100\n",
            "29 : 00011101\n",
            "30 : 00011110\n",
            "31 : 00011111\n",
            "32 : 00100000\n",
            "33 : 00100001\n",
            "34 : 00100010\n",
            "35 : 00100011\n",
            "36 : 00100100\n",
            "37 : 00100101\n",
            "38 : 00100110\n",
            "39 : 00100111\n",
            "40 : 00101000\n",
            "41 : 00101001\n",
            "42 : 00101010\n",
            "43 : 00101011\n",
            "44 : 00101100\n",
            "45 : 00101101\n",
            "46 : 00101110\n",
            "47 : 00101111\n",
            "48 : 00110000\n",
            "49 : 00110001\n",
            "50 : 00110010\n",
            "51 : 00110011\n",
            "52 : 00110100\n",
            "53 : 00110101\n",
            "54 : 00110110\n",
            "55 : 00110111\n",
            "56 : 00111000\n",
            "57 : 00111001\n",
            "58 : 00111010\n",
            "59 : 00111011\n",
            "60 : 00111100\n",
            "61 : 00111101\n",
            "62 : 00111110\n",
            "63 : 00111111\n",
            "64 : 01000000\n",
            "65 : 01000001\n",
            "66 : 01000010\n",
            "67 : 01000011\n",
            "68 : 01000100\n",
            "69 : 01000101\n",
            "70 : 01000110\n",
            "71 : 01000111\n",
            "72 : 01001000\n",
            "73 : 01001001\n",
            "74 : 01001010\n",
            "75 : 01001011\n",
            "76 : 01001100\n",
            "77 : 01001101\n",
            "78 : 01001110\n",
            "79 : 01001111\n",
            "80 : 01010000\n",
            "81 : 01010001\n",
            "82 : 01010010\n",
            "83 : 01010011\n",
            "84 : 01010100\n",
            "85 : 01010101\n",
            "86 : 01010110\n",
            "87 : 01010111\n",
            "88 : 01011000\n",
            "89 : 01011001\n",
            "90 : 01011010\n",
            "91 : 01011011\n",
            "92 : 01011100\n",
            "93 : 01011101\n",
            "94 : 01011110\n",
            "95 : 01011111\n",
            "96 : 01100000\n",
            "97 : 01100001\n",
            "98 : 01100010\n",
            "99 : 01100011\n",
            "100 : 01100100\n",
            "101 : 01100101\n",
            "102 : 01100110\n",
            "103 : 01100111\n",
            "104 : 01101000\n",
            "105 : 01101001\n",
            "106 : 01101010\n",
            "107 : 01101011\n",
            "108 : 01101100\n",
            "109 : 01101101\n",
            "110 : 01101110\n",
            "111 : 01101111\n",
            "112 : 01110000\n",
            "113 : 01110001\n",
            "114 : 01110010\n",
            "115 : 01110011\n",
            "116 : 01110100\n",
            "117 : 01110101\n",
            "118 : 01110110\n",
            "119 : 01110111\n",
            "120 : 01111000\n",
            "121 : 01111001\n",
            "122 : 01111010\n",
            "123 : 01111011\n",
            "124 : 01111100\n",
            "125 : 01111101\n",
            "126 : 01111110\n",
            "127 : 01111111\n",
            "128 : 10000000\n",
            "129 : 10000001\n",
            "130 : 10000010\n",
            "131 : 10000011\n",
            "132 : 10000100\n",
            "133 : 10000101\n",
            "134 : 10000110\n",
            "135 : 10000111\n",
            "136 : 10001000\n",
            "137 : 10001001\n",
            "138 : 10001010\n",
            "139 : 10001011\n",
            "140 : 10001100\n",
            "141 : 10001101\n",
            "142 : 10001110\n",
            "143 : 10001111\n",
            "144 : 10010000\n",
            "145 : 10010001\n",
            "146 : 10010010\n",
            "147 : 10010011\n",
            "148 : 10010100\n",
            "149 : 10010101\n",
            "150 : 10010110\n",
            "151 : 10010111\n",
            "152 : 10011000\n",
            "153 : 10011001\n",
            "154 : 10011010\n",
            "155 : 10011011\n",
            "156 : 10011100\n",
            "157 : 10011101\n",
            "158 : 10011110\n",
            "159 : 10011111\n",
            "160 : 10100000\n",
            "161 : 10100001\n",
            "162 : 10100010\n",
            "163 : 10100011\n",
            "164 : 10100100\n",
            "165 : 10100101\n",
            "166 : 10100110\n",
            "167 : 10100111\n",
            "168 : 10101000\n",
            "169 : 10101001\n",
            "170 : 10101010\n",
            "171 : 10101011\n",
            "172 : 10101100\n",
            "173 : 10101101\n",
            "174 : 10101110\n",
            "175 : 10101111\n",
            "176 : 10110000\n",
            "177 : 10110001\n",
            "178 : 10110010\n",
            "179 : 10110011\n",
            "180 : 10110100\n",
            "181 : 10110101\n",
            "182 : 10110110\n",
            "183 : 10110111\n",
            "184 : 10111000\n",
            "185 : 10111001\n",
            "186 : 10111010\n",
            "187 : 10111011\n",
            "188 : 10111100\n",
            "189 : 10111101\n",
            "190 : 10111110\n",
            "191 : 10111111\n",
            "192 : 11000000\n",
            "193 : 11000001\n",
            "194 : 11000010\n",
            "195 : 11000011\n",
            "196 : 11000100\n",
            "197 : 11000101\n",
            "198 : 11000110\n",
            "199 : 11000111\n",
            "200 : 11001000\n",
            "201 : 11001001\n",
            "202 : 11001010\n",
            "203 : 11001011\n",
            "204 : 11001100\n",
            "205 : 11001101\n",
            "206 : 11001110\n",
            "207 : 11001111\n",
            "208 : 11010000\n",
            "209 : 11010001\n",
            "210 : 11010010\n",
            "211 : 11010011\n",
            "212 : 11010100\n",
            "213 : 11010101\n",
            "214 : 11010110\n",
            "215 : 11010111\n",
            "216 : 11011000\n",
            "217 : 11011001\n",
            "218 : 11011010\n",
            "219 : 11011011\n",
            "220 : 11011100\n",
            "221 : 11011101\n",
            "222 : 11011110\n",
            "223 : 11011111\n",
            "224 : 11100000\n",
            "225 : 11100001\n",
            "226 : 11100010\n",
            "227 : 11100011\n",
            "228 : 11100100\n",
            "229 : 11100101\n",
            "230 : 11100110\n",
            "231 : 11100111\n",
            "232 : 11101000\n",
            "233 : 11101001\n",
            "234 : 11101010\n",
            "235 : 11101011\n",
            "236 : 11101100\n",
            "237 : 11101101\n",
            "238 : 11101110\n",
            "239 : 11101111\n",
            "240 : 11110000\n",
            "241 : 11110001\n",
            "242 : 11110010\n",
            "243 : 11110011\n",
            "244 : 11110100\n",
            "245 : 11110101\n",
            "246 : 11110110\n",
            "247 : 11110111\n",
            "248 : 11111000\n",
            "249 : 11111001\n",
            "250 : 11111010\n",
            "251 : 11111011\n",
            "252 : 11111100\n",
            "253 : 11111101\n",
            "254 : 11111110\n",
            "255 : 11111111\n"
          ]
        }
      ]
    },
    {
      "cell_type": "code",
      "source": [
        "qc1 = QuantumCircuit(2,2)\n",
        "qc1.h(0)\n",
        "qc1.h(1)\n",
        "qc1.barrier()\n",
        "\n",
        "qc2 = QuantumCircuit(8,8)\n",
        "for i in range(0,8):\n",
        "  qc2.h(i)\n",
        "\n"
      ],
      "metadata": {
        "id": "Af1ea109mLu0"
      },
      "execution_count": null,
      "outputs": []
    },
    {
      "cell_type": "code",
      "source": [
        "x=int(input(\"pixel size:\"))\n",
        "print(x)\n",
        "y=[]\n",
        "for i in range(x):\n",
        "  y.append(int(input(\"pixel value:\")))\n",
        "\n",
        "print(y)"
      ],
      "metadata": {
        "id": "6k9asPzpm0ZA",
        "colab": {
          "base_uri": "https://localhost:8080/"
        },
        "outputId": "5f30a503-3dd5-4ec3-8c48-9c1ece4dd8b3"
      },
      "execution_count": null,
      "outputs": [
        {
          "output_type": "stream",
          "name": "stdout",
          "text": [
            "pixel size:4\n",
            "4\n",
            "pixel value:0\n",
            "pixel value:100\n",
            "pixel value:200\n",
            "pixel value:255\n",
            "[0, 100, 200, 255]\n"
          ]
        }
      ]
    },
    {
      "cell_type": "code",
      "source": [
        "z=[]\n",
        "for i in y:\n",
        "  print(i,':',decimal_to_8bit_binary(i))\n",
        "  z.append(decimal_to_8bit_binary(i))\n",
        "\n",
        "print(z)"
      ],
      "metadata": {
        "colab": {
          "base_uri": "https://localhost:8080/"
        },
        "id": "URD4aT7sIY41",
        "outputId": "255a5c35-a236-4d42-b810-a3b5db3e55e9"
      },
      "execution_count": null,
      "outputs": [
        {
          "output_type": "stream",
          "name": "stdout",
          "text": [
            "0 : 00000000\n",
            "100 : 01100100\n",
            "200 : 11001000\n",
            "255 : 11111111\n",
            "['00000000', '01100100', '11001000', '11111111']\n"
          ]
        }
      ]
    },
    {
      "cell_type": "code",
      "source": [
        "z[0][7]"
      ],
      "metadata": {
        "colab": {
          "base_uri": "https://localhost:8080/",
          "height": 36
        },
        "id": "zuDcKUMTLcDm",
        "outputId": "b4932de5-8a39-4f26-985e-a05d3288c94b"
      },
      "execution_count": null,
      "outputs": [
        {
          "output_type": "execute_result",
          "data": {
            "text/plain": [
              "'0'"
            ],
            "application/vnd.google.colaboratory.intrinsic+json": {
              "type": "string"
            }
          },
          "metadata": {},
          "execution_count": 17
        }
      ]
    },
    {
      "cell_type": "code",
      "source": [
        "qc= QuantumCircuit(8,8)\n",
        "for i in z:\n",
        "  for j in range(8):\n",
        "    if i[j]=='1':\n",
        "      qc.x(j)\n",
        "\n",
        "  qc.barrier()\n",
        "  # qc.draw()\n",
        "qc.draw()\n"
      ],
      "metadata": {
        "colab": {
          "base_uri": "https://localhost:8080/",
          "height": 309
        },
        "id": "2lwOl3YmJZAo",
        "outputId": "5f49cfdd-7176-4866-c83d-f9f1bf9e48c9"
      },
      "execution_count": null,
      "outputs": [
        {
          "output_type": "execute_result",
          "data": {
            "text/plain": [
              "      ░       ░ ┌───┐ ░ ┌───┐ ░ \n",
              "q_0: ─░───────░─┤ X ├─░─┤ X ├─░─\n",
              "      ░ ┌───┐ ░ ├───┤ ░ ├───┤ ░ \n",
              "q_1: ─░─┤ X ├─░─┤ X ├─░─┤ X ├─░─\n",
              "      ░ ├───┤ ░ └───┘ ░ ├───┤ ░ \n",
              "q_2: ─░─┤ X ├─░───────░─┤ X ├─░─\n",
              "      ░ └───┘ ░       ░ ├───┤ ░ \n",
              "q_3: ─░───────░───────░─┤ X ├─░─\n",
              "      ░       ░ ┌───┐ ░ ├───┤ ░ \n",
              "q_4: ─░───────░─┤ X ├─░─┤ X ├─░─\n",
              "      ░ ┌───┐ ░ └───┘ ░ ├───┤ ░ \n",
              "q_5: ─░─┤ X ├─░───────░─┤ X ├─░─\n",
              "      ░ └───┘ ░       ░ ├───┤ ░ \n",
              "q_6: ─░───────░───────░─┤ X ├─░─\n",
              "      ░       ░       ░ ├───┤ ░ \n",
              "q_7: ─░───────░───────░─┤ X ├─░─\n",
              "      ░       ░       ░ └───┘ ░ \n",
              "c: 8/═══════════════════════════\n",
              "                                "
            ],
            "text/html": [
              "<pre style=\"word-wrap: normal;white-space: pre;background: #fff0;line-height: 1.1;font-family: &quot;Courier New&quot;,Courier,monospace\">      ░       ░ ┌───┐ ░ ┌───┐ ░ \n",
              "q_0: ─░───────░─┤ X ├─░─┤ X ├─░─\n",
              "      ░ ┌───┐ ░ ├───┤ ░ ├───┤ ░ \n",
              "q_1: ─░─┤ X ├─░─┤ X ├─░─┤ X ├─░─\n",
              "      ░ ├───┤ ░ └───┘ ░ ├───┤ ░ \n",
              "q_2: ─░─┤ X ├─░───────░─┤ X ├─░─\n",
              "      ░ └───┘ ░       ░ ├───┤ ░ \n",
              "q_3: ─░───────░───────░─┤ X ├─░─\n",
              "      ░       ░ ┌───┐ ░ ├───┤ ░ \n",
              "q_4: ─░───────░─┤ X ├─░─┤ X ├─░─\n",
              "      ░ ┌───┐ ░ └───┘ ░ ├───┤ ░ \n",
              "q_5: ─░─┤ X ├─░───────░─┤ X ├─░─\n",
              "      ░ └───┘ ░       ░ ├───┤ ░ \n",
              "q_6: ─░───────░───────░─┤ X ├─░─\n",
              "      ░       ░       ░ ├───┤ ░ \n",
              "q_7: ─░───────░───────░─┤ X ├─░─\n",
              "      ░       ░       ░ └───┘ ░ \n",
              "c: 8/═══════════════════════════\n",
              "                                </pre>"
            ]
          },
          "metadata": {},
          "execution_count": 27
        }
      ]
    },
    {
      "cell_type": "code",
      "source": [
        "st = Statevector(qc)\n",
        "st.draw('latex')\n",
        "\n"
      ],
      "metadata": {
        "colab": {
          "base_uri": "https://localhost:8080/",
          "height": 37
        },
        "id": "jQTw8cBVLHrU",
        "outputId": "ee99f916-1e1a-4268-a02c-1f78bafbc11f"
      },
      "execution_count": null,
      "outputs": [
        {
          "output_type": "execute_result",
          "data": {
            "text/plain": [
              "<IPython.core.display.Latex object>"
            ],
            "text/latex": "$$ |11001010\\rangle$$"
          },
          "metadata": {},
          "execution_count": 29
        }
      ]
    },
    {
      "cell_type": "code",
      "source": [
        "qc= QuantumCircuit(10,10)\n",
        "qc.h(8)\n",
        "qc.h(9)\n",
        "# qc.barrier()\n",
        "# for i in z:\n",
        "#   for j in range(8):\n",
        "#     if i[j]=='1':\n",
        "#       qc.mcx([8,9],j)\n",
        "\n",
        "#   qc.barrier()\n",
        "  # qc.draw()\n",
        "qc.draw()\n"
      ],
      "metadata": {
        "colab": {
          "base_uri": "https://localhost:8080/",
          "height": 371
        },
        "id": "kadJ2TT6M5q2",
        "outputId": "ed60d8aa-c36c-41df-92de-e9c72bde098e"
      },
      "execution_count": null,
      "outputs": [
        {
          "output_type": "execute_result",
          "data": {
            "text/plain": [
              "           \n",
              " q_0: ─────\n",
              "           \n",
              " q_1: ─────\n",
              "           \n",
              " q_2: ─────\n",
              "           \n",
              " q_3: ─────\n",
              "           \n",
              " q_4: ─────\n",
              "           \n",
              " q_5: ─────\n",
              "           \n",
              " q_6: ─────\n",
              "           \n",
              " q_7: ─────\n",
              "      ┌───┐\n",
              " q_8: ┤ H ├\n",
              "      ├───┤\n",
              " q_9: ┤ H ├\n",
              "      └───┘\n",
              "c: 10/═════\n",
              "           "
            ],
            "text/html": [
              "<pre style=\"word-wrap: normal;white-space: pre;background: #fff0;line-height: 1.1;font-family: &quot;Courier New&quot;,Courier,monospace\">           \n",
              " q_0: ─────\n",
              "           \n",
              " q_1: ─────\n",
              "           \n",
              " q_2: ─────\n",
              "           \n",
              " q_3: ─────\n",
              "           \n",
              " q_4: ─────\n",
              "           \n",
              " q_5: ─────\n",
              "           \n",
              " q_6: ─────\n",
              "           \n",
              " q_7: ─────\n",
              "      ┌───┐\n",
              " q_8: ┤ H ├\n",
              "      ├───┤\n",
              " q_9: ┤ H ├\n",
              "      └───┘\n",
              "c: 10/═════\n",
              "           </pre>"
            ]
          },
          "metadata": {},
          "execution_count": 39
        }
      ]
    },
    {
      "cell_type": "code",
      "source": [
        "st = Statevector(qc)\n",
        "st.draw('latex')"
      ],
      "metadata": {
        "colab": {
          "base_uri": "https://localhost:8080/",
          "height": 38
        },
        "id": "jUJtb2j3NdKb",
        "outputId": "370c6143-9399-4d70-fdaf-86ebed045a2f"
      },
      "execution_count": null,
      "outputs": [
        {
          "output_type": "execute_result",
          "data": {
            "text/plain": [
              "<IPython.core.display.Latex object>"
            ],
            "text/latex": "$$\\frac{1}{2} |0000000000\\rangle+\\frac{1}{2} |0100000000\\rangle+\\frac{1}{2} |1000000000\\rangle+\\frac{1}{2} |1100000000\\rangle$$"
          },
          "metadata": {},
          "execution_count": 40
        }
      ]
    },
    {
      "cell_type": "code",
      "source": [],
      "metadata": {
        "id": "jLtFslKaNoKf"
      },
      "execution_count": null,
      "outputs": []
    },
    {
      "source": [
        "# !pip install qiskit\n",
        "\n",
        "from qiskit import QuantumCircuit, QuantumRegister, ClassicalRegister\n",
        "\n",
        "def neqr_encode(image_data):\n",
        "    \"\"\"\n",
        "    Encodes classical image data into a quantum circuit using NEQR.\n",
        "\n",
        "    Args:\n",
        "        image_data (list): A 2D list representing the image pixel values.\n",
        "\n",
        "    Returns:\n",
        "        QuantumCircuit: The quantum circuit with the encoded image.\n",
        "    \"\"\"\n",
        "\n",
        "    # Determine image dimensions\n",
        "    height = len(image_data)\n",
        "    width = len(image_data[0]) if height > 0 else 0  # Handle empty image\n",
        "\n",
        "    # Calculate total number of qubits needed\n",
        "    num_qubits = (height * width).bit_length()\n",
        "\n",
        "    # Create quantum and classical registers\n",
        "    qr = QuantumRegister(num_qubits, 'q')\n",
        "    cr = ClassicalRegister(num_qubits, 'c')\n",
        "    qc = QuantumCircuit(qr, cr)\n",
        "\n",
        "    # Iterate through pixels and apply X gates based on pixel values\n",
        "    for row in range(height):\n",
        "        for col in range(width):\n",
        "            pixel_value = image_data[row][col]\n",
        "\n",
        "            # Convert pixel value to binary and apply X gates\n",
        "            for i, bit in enumerate(bin(pixel_value)[2:].zfill(num_qubits)):\n",
        "                if bit == '1':\n",
        "                    qc.x(qr[i])\n",
        "\n",
        "            # Entangle qubits to represent pixel position (optional)\n",
        "            # ... (Implementation for entanglement) ...\n",
        "\n",
        "    return qc\n",
        "\n",
        "\n",
        "# Example usage:\n",
        "# image_data = [[0, 1, 0],\n",
        "#               [1, 0, 1],\n",
        "#               [0, 1, 0]]\n",
        "\n",
        "image_dat = [[0,100],\n",
        "             [200,255]]\n",
        "encoded_circuit = neqr_encode(image_data)\n",
        "print(encoded_circuit.draw())"
      ],
      "cell_type": "code",
      "metadata": {
        "colab": {
          "base_uri": "https://localhost:8080/"
        },
        "id": "LqWLS79HPySg",
        "outputId": "a4164ff2-7e8b-4ba7-d743-d2325151f25c"
      },
      "execution_count": null,
      "outputs": [
        {
          "output_type": "stream",
          "name": "stdout",
          "text": [
            "                         \n",
            "q_0: ────────────────────\n",
            "                         \n",
            "q_1: ────────────────────\n",
            "                         \n",
            "q_2: ────────────────────\n",
            "     ┌───┐┌───┐┌───┐┌───┐\n",
            "q_3: ┤ X ├┤ X ├┤ X ├┤ X ├\n",
            "     └───┘└───┘└───┘└───┘\n",
            "c: 4/════════════════════\n",
            "                         \n"
          ]
        }
      ]
    },
    {
      "cell_type": "code",
      "source": [
        "st = Statevector(encoded_circuit)\n",
        "st.draw('latex')"
      ],
      "metadata": {
        "colab": {
          "base_uri": "https://localhost:8080/",
          "height": 37
        },
        "id": "VO3GuXltPy0Q",
        "outputId": "703e8162-b046-4634-ca1f-920eb66210ce"
      },
      "execution_count": null,
      "outputs": [
        {
          "output_type": "execute_result",
          "data": {
            "text/plain": [
              "<IPython.core.display.Latex object>"
            ],
            "text/latex": "$$ |0000\\rangle$$"
          },
          "metadata": {},
          "execution_count": 35
        }
      ]
    },
    {
      "cell_type": "code",
      "source": [
        "import numpy as np\n",
        "from qiskit import QuantumCircuit, transpile, assemble, execute\n",
        "from qiskit.visualization import plot_histogram"
      ],
      "metadata": {
        "colab": {
          "base_uri": "https://localhost:8080/",
          "height": 349
        },
        "id": "MbLYhZsRDH9Q",
        "outputId": "c8f2912b-d2bf-47f6-8194-4a7f50e01c49"
      },
      "execution_count": null,
      "outputs": [
        {
          "output_type": "error",
          "ename": "ImportError",
          "evalue": "cannot import name 'execute' from 'qiskit' (/usr/local/lib/python3.10/dist-packages/qiskit/__init__.py)",
          "traceback": [
            "\u001b[0;31m---------------------------------------------------------------------------\u001b[0m",
            "\u001b[0;31mImportError\u001b[0m                               Traceback (most recent call last)",
            "\u001b[0;32m<ipython-input-10-967dd80a6613>\u001b[0m in \u001b[0;36m<cell line: 2>\u001b[0;34m()\u001b[0m\n\u001b[1;32m      1\u001b[0m \u001b[0;32mimport\u001b[0m \u001b[0mnumpy\u001b[0m \u001b[0;32mas\u001b[0m \u001b[0mnp\u001b[0m\u001b[0;34m\u001b[0m\u001b[0;34m\u001b[0m\u001b[0m\n\u001b[0;32m----> 2\u001b[0;31m \u001b[0;32mfrom\u001b[0m \u001b[0mqiskit\u001b[0m \u001b[0;32mimport\u001b[0m \u001b[0mQuantumCircuit\u001b[0m\u001b[0;34m,\u001b[0m \u001b[0mtranspile\u001b[0m\u001b[0;34m,\u001b[0m \u001b[0massemble\u001b[0m\u001b[0;34m,\u001b[0m \u001b[0mexecute\u001b[0m\u001b[0;34m\u001b[0m\u001b[0;34m\u001b[0m\u001b[0m\n\u001b[0m\u001b[1;32m      3\u001b[0m \u001b[0;32mfrom\u001b[0m \u001b[0mqiskit\u001b[0m\u001b[0;34m.\u001b[0m\u001b[0mvisualization\u001b[0m \u001b[0;32mimport\u001b[0m \u001b[0mplot_histogram\u001b[0m\u001b[0;34m\u001b[0m\u001b[0;34m\u001b[0m\u001b[0m\n",
            "\u001b[0;31mImportError\u001b[0m: cannot import name 'execute' from 'qiskit' (/usr/local/lib/python3.10/dist-packages/qiskit/__init__.py)",
            "",
            "\u001b[0;31m---------------------------------------------------------------------------\u001b[0;32m\nNOTE: If your import is failing due to a missing package, you can\nmanually install dependencies using either !pip or !apt.\n\nTo view examples of installing some common dependencies, click the\n\"Open Examples\" button below.\n\u001b[0;31m---------------------------------------------------------------------------\u001b[0m\n"
          ],
          "errorDetails": {
            "actions": [
              {
                "action": "open_url",
                "actionText": "Open Examples",
                "url": "/notebooks/snippets/importing_libraries.ipynb"
              }
            ]
          }
        }
      ]
    },
    {
      "cell_type": "code",
      "source": [
        "\n",
        "\n",
        "# NEQR model representation for 2^n x 2^n image with pixel values from 0 to 2^q\n",
        "def neqr_generalized(image, n, q):\n",
        "    # Calculate the total number of qubits required\n",
        "    num_qubits = 2 * n + q  # 2n for row and column, q for pixel values\n",
        "    qc = QuantumCircuit(num_qubits)\n",
        "\n",
        "    # Loop over each pixel in the image (assuming 2^n x 2^n size)\n",
        "    for i in range(image.shape[0]):  # Row index\n",
        "        for j in range(image.shape[1]):  # Column index\n",
        "            pixel_value = image[i][j]\n",
        "            pixel_binary = np.binary_repr(pixel_value, width=q)  # Grayscale to binary\n",
        "\n",
        "            # Encode row and column indices into quantum registers\n",
        "            row_binary = np.binary_repr(i, width=n)\n",
        "            col_binary = np.binary_repr(j, width=n)\n",
        "\n",
        "            # Apply X gates to corresponding row qubits\n",
        "            for k, bit in enumerate(row_binary):\n",
        "                if bit == '1':\n",
        "                    qc.x(k)  # Flip row qubits based on row index\n",
        "\n",
        "            # Apply X gates to corresponding column qubits\n",
        "            for k, bit in enumerate(col_binary):\n",
        "                if bit == '1':\n",
        "                    qc.x(n + k)  # Flip column qubits based on column index\n",
        "\n",
        "            # Encode pixel value into the q qubits\n",
        "            for k, bit in enumerate(pixel_binary):\n",
        "                if bit == '1':\n",
        "                    qc.x(2 * n + k)  # Flip pixel qubits based on intensity\n",
        "\n",
        "    # Measure all qubits to read the state\n",
        "    qc.measure_all()\n",
        "\n",
        "    return qc\n",
        "\n",
        "# Define image size parameters\n",
        "n = 2  # For 2^n x 2^n image (e.g., n=2 for 4x4 image)\n",
        "q = 4  # Pixel value range from 0 to 2^q (e.g., q=4 for values 0-15)\n",
        "\n",
        "# Example 4x4 grayscale image with values from 0 to 15\n",
        "image = np.array([[3, 12, 7, 8],\n",
        "                  [14, 2, 10, 5],\n",
        "                  [6, 9, 4, 15],\n",
        "                  [0, 1, 13, 11]])\n",
        "\n",
        "# Create the quantum circuit for NEQR representation\n",
        "qc = neqr_generalized(image, n, q)\n",
        "\n",
        "# # Simulate the quantum circuit\n",
        "# simulator = Aer.get_backend('qasm_simulator')\n",
        "# compiled_circuit = transpile(qc, simulator)\n",
        "# qobj = assemble(compiled_circuit)\n",
        "# result = execute(qc, simulator).result()\n",
        "\n",
        "# # Plot result in histogram\n",
        "# counts = result.get_counts(qc)\n",
        "# plot_histogram(counts)\n",
        "\n",
        "\n",
        "simulator = Aer.get_backend('qasm_simulator')\n",
        "# Add measurements to the quantum circuit\n",
        "qc.measure_all() # This adds measurements to all qubits in the circuit\n",
        "job = simulator.run(qc, shots=20000)\n",
        "result = job.result()\n",
        "counts = result.get_counts(qc)\n",
        "print(counts)"
      ],
      "metadata": {
        "colab": {
          "base_uri": "https://localhost:8080/"
        },
        "id": "Sv-YB8G3QStG",
        "outputId": "fd2b69a1-d30e-4402-ebe7-460bb268f716"
      },
      "execution_count": null,
      "outputs": [
        {
          "output_type": "stream",
          "name": "stdout",
          "text": [
            "{'00000000 00000000': 20000}\n"
          ]
        }
      ]
    },
    {
      "cell_type": "code",
      "source": [],
      "metadata": {
        "id": "BHu2K70eDDDA"
      },
      "execution_count": null,
      "outputs": []
    }
  ]
}